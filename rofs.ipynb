{
 "cells": [
  {
   "cell_type": "code",
   "execution_count": 65,
   "id": "9259d444-0506-4e3a-a7aa-9c4389d2e347",
   "metadata": {},
   "outputs": [],
   "source": [
    "import uproot \n",
    "import matplotlib.pyplot as plt\n",
    "import matplotlib.colors as colors"
   ]
  },
  {
   "cell_type": "code",
   "execution_count": 66,
   "id": "8cb070e8-a344-4300-a4b8-6e86b5958d1b",
   "metadata": {},
   "outputs": [
    {
     "data": {
      "text/plain": [
       "['rofs',\n",
       " 'rofs/rofs.mBCData.bc',\n",
       " 'rofs/rofs.mBCData.orbit',\n",
       " 'rofs/rofs.mDataRef.mFirstEntry',\n",
       " 'rofs/rofs.mDataRef.mEntries',\n",
       " 'rofs/rofs.mBCWidth',\n",
       " 'digits',\n",
       " 'digits/digits.mTFtime',\n",
       " 'digits/digits.mNofSamples',\n",
       " 'digits/digits.mIsSaturated',\n",
       " 'digits/digits.mDetID',\n",
       " 'digits/digits.mPadID',\n",
       " 'digits/digits.mADC']"
      ]
     },
     "execution_count": 66,
     "metadata": {},
     "output_type": "execute_result"
    }
   ],
   "source": [
    "file=uproot.open(\"../run/mchdigits.root\")\n",
    "file[\"o2sim\"].keys()"
   ]
  },
  {
   "cell_type": "code",
   "execution_count": 114,
   "id": "dd2b4e49-3d9b-47ff-ad77-1b448dba13f4",
   "metadata": {},
   "outputs": [],
   "source": [
    "#rofs=next(file['o2sim'].iterate(filter_name=\"rofs/*\",library=\"pd\",step_size=\"10MB\"))\n",
    "rofs=file['o2sim'].arrays(filter_name=\"rofs/*\",library=\"pd\")\n",
    "digits=next(file['o2sim'].iterate(filter_name=\"digits/*\",step_size=\"10MB\",library=\"pd\"))"
   ]
  },
  {
   "cell_type": "code",
   "execution_count": 115,
   "id": "1d1b5346-76af-4a7f-ad97-ed184764df5e",
   "metadata": {},
   "outputs": [
    {
     "data": {
      "text/html": [
       "<div>\n",
       "<style scoped>\n",
       "    .dataframe tbody tr th:only-of-type {\n",
       "        vertical-align: middle;\n",
       "    }\n",
       "\n",
       "    .dataframe tbody tr th {\n",
       "        vertical-align: top;\n",
       "    }\n",
       "\n",
       "    .dataframe thead th {\n",
       "        text-align: right;\n",
       "    }\n",
       "</style>\n",
       "<table border=\"1\" class=\"dataframe\">\n",
       "  <thead>\n",
       "    <tr style=\"text-align: right;\">\n",
       "      <th></th>\n",
       "      <th>digits.mTFtime</th>\n",
       "      <th>digits.mNofSamples</th>\n",
       "      <th>digits.mDetID</th>\n",
       "      <th>digits.mPadID</th>\n",
       "      <th>digits.mADC</th>\n",
       "    </tr>\n",
       "  </thead>\n",
       "  <tbody>\n",
       "    <tr>\n",
       "      <th>count</th>\n",
       "      <td>1.304798e+06</td>\n",
       "      <td>1.304798e+06</td>\n",
       "      <td>1.304798e+06</td>\n",
       "      <td>1.304798e+06</td>\n",
       "      <td>1.304798e+06</td>\n",
       "    </tr>\n",
       "    <tr>\n",
       "      <th>mean</th>\n",
       "      <td>2.240044e+05</td>\n",
       "      <td>2.108150e+01</td>\n",
       "      <td>7.431357e+02</td>\n",
       "      <td>3.910406e+03</td>\n",
       "      <td>2.014167e+02</td>\n",
       "    </tr>\n",
       "    <tr>\n",
       "      <th>std</th>\n",
       "      <td>1.347898e+05</td>\n",
       "      <td>1.888511e+01</td>\n",
       "      <td>2.034957e+02</td>\n",
       "      <td>5.410714e+03</td>\n",
       "      <td>2.240330e+04</td>\n",
       "    </tr>\n",
       "    <tr>\n",
       "      <th>min</th>\n",
       "      <td>-1.431550e+05</td>\n",
       "      <td>1.000000e+00</td>\n",
       "      <td>1.000000e+02</td>\n",
       "      <td>0.000000e+00</td>\n",
       "      <td>2.000000e+00</td>\n",
       "    </tr>\n",
       "    <tr>\n",
       "      <th>25%</th>\n",
       "      <td>1.188950e+05</td>\n",
       "      <td>1.400000e+01</td>\n",
       "      <td>7.090000e+02</td>\n",
       "      <td>1.111000e+03</td>\n",
       "      <td>2.300000e+01</td>\n",
       "    </tr>\n",
       "    <tr>\n",
       "      <th>50%</th>\n",
       "      <td>2.360390e+05</td>\n",
       "      <td>1.400000e+01</td>\n",
       "      <td>7.250000e+02</td>\n",
       "      <td>1.921000e+03</td>\n",
       "      <td>2.800000e+01</td>\n",
       "    </tr>\n",
       "    <tr>\n",
       "      <th>75%</th>\n",
       "      <td>3.361452e+05</td>\n",
       "      <td>2.200000e+01</td>\n",
       "      <td>9.090000e+02</td>\n",
       "      <td>4.766000e+03</td>\n",
       "      <td>4.400000e+01</td>\n",
       "    </tr>\n",
       "    <tr>\n",
       "      <th>max</th>\n",
       "      <td>1.047126e+06</td>\n",
       "      <td>1.023000e+03</td>\n",
       "      <td>1.025000e+03</td>\n",
       "      <td>2.828600e+04</td>\n",
       "      <td>9.368551e+06</td>\n",
       "    </tr>\n",
       "  </tbody>\n",
       "</table>\n",
       "</div>"
      ],
      "text/plain": [
       "       digits.mTFtime  digits.mNofSamples  digits.mDetID  digits.mPadID  \\\n",
       "count    1.304798e+06        1.304798e+06   1.304798e+06   1.304798e+06   \n",
       "mean     2.240044e+05        2.108150e+01   7.431357e+02   3.910406e+03   \n",
       "std      1.347898e+05        1.888511e+01   2.034957e+02   5.410714e+03   \n",
       "min     -1.431550e+05        1.000000e+00   1.000000e+02   0.000000e+00   \n",
       "25%      1.188950e+05        1.400000e+01   7.090000e+02   1.111000e+03   \n",
       "50%      2.360390e+05        1.400000e+01   7.250000e+02   1.921000e+03   \n",
       "75%      3.361452e+05        2.200000e+01   9.090000e+02   4.766000e+03   \n",
       "max      1.047126e+06        1.023000e+03   1.025000e+03   2.828600e+04   \n",
       "\n",
       "        digits.mADC  \n",
       "count  1.304798e+06  \n",
       "mean   2.014167e+02  \n",
       "std    2.240330e+04  \n",
       "min    2.000000e+00  \n",
       "25%    2.300000e+01  \n",
       "50%    2.800000e+01  \n",
       "75%    4.400000e+01  \n",
       "max    9.368551e+06  "
      ]
     },
     "execution_count": 115,
     "metadata": {},
     "output_type": "execute_result"
    }
   ],
   "source": [
    "digits.describe()"
   ]
  },
  {
   "cell_type": "code",
   "execution_count": 116,
   "id": "89526b6c-9f5c-49f1-b122-7f638b6ddfaf",
   "metadata": {},
   "outputs": [
    {
     "data": {
      "image/png": "[encoded data removed]",
      "text/plain": [
       "<Figure size 432x288 with 1 Axes>"
      ]
     },
     "metadata": {
      "needs_background": "light"
     },
     "output_type": "display_data"
    }
   ],
   "source": [
    "plt.hist(digits[digits[\"digits.mADC\"]<10000][\"digits.mADC\"],bins=100);\n",
    "plt.yscale(\"log\")"
   ]
  },
  {
   "cell_type": "code",
   "execution_count": 117,
   "id": "050df5fc-57a2-4a3d-bdf8-ff97474ec5b1",
   "metadata": {},
   "outputs": [
    {
     "data": {
      "image/png": "[encoded data removed]",
      "text/plain": [
       "<Figure size 432x288 with 1 Axes>"
      ]
     },
     "metadata": {
      "needs_background": "light"
     },
     "output_type": "display_data"
    }
   ],
   "source": [
    "plt.hist(digits[digits[\"digits.mADC\"]<10000][\"digits.mNofSamples\"],bins=100);\n",
    "plt.yscale(\"log\")"
   ]
  },
  {
   "cell_type": "code",
   "execution_count": 118,
   "id": "9d16b201-c391-43f7-99ab-7a17ba462db2",
   "metadata": {},
   "outputs": [
    {
     "data": {
      "image/png": "[encoded data removed]",
      "text/plain": [
       "<Figure size 432x288 with 1 Axes>"
      ]
     },
     "metadata": {
      "needs_background": "light"
     },
     "output_type": "display_data"
    }
   ],
   "source": [
    "plt.hist(digits[digits[\"digits.mADC\"]<10000][\"digits.mDetID\"]);\n",
    "plt.yscale(\"log\")"
   ]
  },
  {
   "cell_type": "code",
   "execution_count": 119,
   "id": "07a9475c-9c5a-4316-bded-24891fbb24d9",
   "metadata": {},
   "outputs": [
    {
     "data": {
      "text/plain": [
       "count    2.132811e+06\n",
       "mean     2.707113e+01\n",
       "std      1.377010e+01\n",
       "min      4.000000e+00\n",
       "25%      1.400000e+01\n",
       "50%      3.400000e+01\n",
       "75%      4.000000e+01\n",
       "max      4.300000e+01\n",
       "Name: rofs.mBCWidth, dtype: float64"
      ]
     },
     "execution_count": 119,
     "metadata": {},
     "output_type": "execute_result"
    }
   ],
   "source": [
    "rofs[\"rofs.mBCWidth\"].describe()"
   ]
  },
  {
   "cell_type": "code",
   "execution_count": 120,
   "id": "d9e7788d-f68f-4f8d-988a-203ed4ca1614",
   "metadata": {},
   "outputs": [
    {
     "data": {
      "text/plain": [
       "array([[<AxesSubplot:title={'center':'rofs.mBCWidth'}>]], dtype=object)"
      ]
     },
     "execution_count": 120,
     "metadata": {},
     "output_type": "execute_result"
    },
    {
     "data": {
      "image/png": "[encoded data removed]",
      "text/plain": [
       "<Figure size 432x288 with 1 Axes>"
      ]
     },
     "metadata": {
      "needs_background": "light"
     },
     "output_type": "display_data"
    }
   ],
   "source": [
    "rofs.hist(\"rofs.mBCWidth\",bins=20)"
   ]
  },
  {
   "cell_type": "code",
   "execution_count": 121,
   "id": "e0b2f801-0776-4b3c-ba3c-9437a773f178",
   "metadata": {},
   "outputs": [
    {
     "data": {
      "text/plain": [
       "array([[<AxesSubplot:title={'center':'rofs.mBCData.orbit'}>]],\n",
       "      dtype=object)"
      ]
     },
     "execution_count": 121,
     "metadata": {},
     "output_type": "execute_result"
    },
    {
     "data": {
      "image/png": "[encoded data removed]",
      "text/plain": [
       "<Figure size 432x288 with 1 Axes>"
      ]
     },
     "metadata": {
      "needs_background": "light"
     },
     "output_type": "display_data"
    }
   ],
   "source": [
    "rofs.hist(\"rofs.mBCData.orbit\")"
   ]
  },
  {
   "cell_type": "code",
   "execution_count": 122,
   "id": "1ee6e0d0-2a03-4e2a-8510-a5543cca9ba1",
   "metadata": {},
   "outputs": [],
   "source": [
    "orbits=rofs[\"rofs.mBCData.orbit\"].unique()"
   ]
  },
  {
   "cell_type": "code",
   "execution_count": 123,
   "id": "2559144f-5fc7-497c-8379-b4b5af914853",
   "metadata": {},
   "outputs": [
    {
     "data": {
      "text/plain": [
       "167.1875"
      ]
     },
     "execution_count": 123,
     "metadata": {},
     "output_type": "execute_result"
    }
   ],
   "source": [
    "len(orbits)/128"
   ]
  },
  {
   "cell_type": "code",
   "execution_count": 124,
   "id": "2b0404ab-ff0d-4719-8f4f-f40a51b945fa",
   "metadata": {},
   "outputs": [
    {
     "data": {
      "image/png": "[encoded data removed]",
      "text/plain": [
       "<Figure size 432x288 with 1 Axes>"
      ]
     },
     "metadata": {
      "needs_background": "light"
     },
     "output_type": "display_data"
    }
   ],
   "source": [
    "#plt.hist(rofs[\"rofs.mDataRef.mEntries\"],bins=100)\n",
    "plt.hist2d(rofs[\"rofs.mBCWidth\"],rofs[\"rofs.mDataRef.mEntries\"],norm=colors.LogNorm(),bins=(20,50));"
   ]
  },
  {
   "cell_type": "code",
   "execution_count": null,
   "id": "aa34352f-e5dd-4eea-a6c4-90f48af85bd7",
   "metadata": {},
   "outputs": [],
   "source": []
  },
  {
   "cell_type": "code",
   "execution_count": null,
   "id": "f1a4c475-ef7f-463c-91ab-4cdf14ce248a",
   "metadata": {},
   "outputs": [],
   "source": []
  }
 ],
 "metadata": {
  "kernelspec": {
   "display_name": "Python 3 (ipykernel)",
   "language": "python",
   "name": "python3"
  },
  "language_info": {
   "codemirror_mode": {
    "name": "ipython",
    "version": 3
   },
   "file_extension": ".py",
   "mimetype": "text/x-python",
   "name": "python",
   "nbconvert_exporter": "python",
   "pygments_lexer": "ipython3",
   "version": "3.9.9"
  }
 },
 "nbformat": 4,
 "nbformat_minor": 5
}
