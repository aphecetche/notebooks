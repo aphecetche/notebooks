{
 "cells": [
  {
   "cell_type": "code",
   "execution_count": 2,
   "id": "9259d444-0506-4e3a-a7aa-9c4389d2e347",
   "metadata": {},
   "outputs": [],
   "source": [
    "import uproot "
   ]
  },
  {
   "cell_type": "code",
   "execution_count": 3,
   "id": "8cb070e8-a344-4300-a4b8-6e86b5958d1b",
   "metadata": {},
   "outputs": [
    {
     "data": {
      "text/plain": [
       "['rofs',\n",
       " 'rofs/rofs.mBCData.bc',\n",
       " 'rofs/rofs.mBCData.orbit',\n",
       " 'rofs/rofs.mDataRef.mFirstEntry',\n",
       " 'rofs/rofs.mDataRef.mEntries',\n",
       " 'rofs/rofs.mBCWidth',\n",
       " 'digits',\n",
       " 'digits/digits.mTFtime',\n",
       " 'digits/digits.mNofSamples',\n",
       " 'digits/digits.mIsSaturated',\n",
       " 'digits/digits.mDetID',\n",
       " 'digits/digits.mPadID',\n",
       " 'digits/digits.mADC']"
      ]
     },
     "execution_count": 3,
     "metadata": {},
     "output_type": "execute_result"
    }
   ],
   "source": [
    "file=uproot.open(\"../run/mchdigits.root\")\n",
    "file[\"o2sim\"].keys()"
   ]
  },
  {
   "cell_type": "code",
   "execution_count": 4,
   "id": "dd2b4e49-3d9b-47ff-ad77-1b448dba13f4",
   "metadata": {},
   "outputs": [],
   "source": [
    "rofs=file['o2sim'].arrays(filter_name=\"rofs/*\",library=\"pd\")"
   ]
  },
  {
   "cell_type": "code",
   "execution_count": 5,
   "id": "07a9475c-9c5a-4316-bded-24891fbb24d9",
   "metadata": {},
   "outputs": [
    {
     "data": {
      "text/plain": [
       "count    298646.0\n",
       "mean          4.0\n",
       "std           0.0\n",
       "min           4.0\n",
       "25%           4.0\n",
       "50%           4.0\n",
       "75%           4.0\n",
       "max           4.0\n",
       "Name: rofs.mBCWidth, dtype: float64"
      ]
     },
     "execution_count": 5,
     "metadata": {},
     "output_type": "execute_result"
    }
   ],
   "source": [
    "rofs[\"rofs.mBCWidth\"].describe()"
   ]
  },
  {
   "cell_type": "code",
   "execution_count": null,
   "id": "d9e7788d-f68f-4f8d-988a-203ed4ca1614",
   "metadata": {},
   "outputs": [],
   "source": []
  }
 ],
 "metadata": {
  "kernelspec": {
   "display_name": "Python 3 (ipykernel)",
   "language": "python",
   "name": "python3"
  },
  "language_info": {
   "codemirror_mode": {
    "name": "ipython",
    "version": 3
   },
   "file_extension": ".py",
   "mimetype": "text/x-python",
   "name": "python",
   "nbconvert_exporter": "python",
   "pygments_lexer": "ipython3",
   "version": "3.9.9"
  }
 },
 "nbformat": 4,
 "nbformat_minor": 5
}
